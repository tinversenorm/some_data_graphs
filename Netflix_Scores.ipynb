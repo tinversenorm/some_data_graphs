{
 "cells": [
  {
   "cell_type": "code",
   "execution_count": 1,
   "metadata": {},
   "outputs": [
    {
     "data": {
      "text/html": [
       "<script>requirejs.config({paths: { 'plotly': ['https://cdn.plot.ly/plotly-latest.min']},});if(!window.Plotly) {{require(['plotly'],function(plotly) {window.Plotly=plotly;});}}</script>"
      ],
      "text/vnd.plotly.v1+html": [
       "<script>requirejs.config({paths: { 'plotly': ['https://cdn.plot.ly/plotly-latest.min']},});if(!window.Plotly) {{require(['plotly'],function(plotly) {window.Plotly=plotly;});}}</script>"
      ]
     },
     "metadata": {},
     "output_type": "display_data"
    }
   ],
   "source": [
    "import pandas as pd\n",
    "import numpy as np\n",
    "from scipy import stats\n",
    "import plotly.offline as py\n",
    "import plotly.graph_objs as go\n",
    "\n",
    "import matplotlib.pyplot as plt\n",
    "\n",
    "py.init_notebook_mode(connected=True)"
   ]
  },
  {
   "cell_type": "code",
   "execution_count": 2,
   "metadata": {
    "collapsed": true
   },
   "outputs": [],
   "source": [
    "# utils\n",
    "def plot_line(labels, values, extra_info, name):\n",
    "    py.iplot({\n",
    "        \"data\": [go.Scatter(\n",
    "            x=labels,\n",
    "            y=values,\n",
    "            text=extra_info\n",
    "        )],\n",
    "        \"layout\": go.Layout(\n",
    "            title=name\n",
    "        )\n",
    "    })"
   ]
  },
  {
   "cell_type": "code",
   "execution_count": 6,
   "metadata": {},
   "outputs": [
    {
     "name": "stdout",
     "output_type": "stream",
     "text": [
      "R squared value: 0.00031327951682016167\n"
     ]
    },
    {
     "data": {
      "image/png": "[encoded data removed]",
      "text/plain": [
       "<matplotlib.figure.Figure at 0x11346f048>"
      ]
     },
     "metadata": {},
     "output_type": "display_data"
    },
    {
     "name": "stdout",
     "output_type": "stream",
     "text": [
      "R squared value: 0.03379836411749594\n"
     ]
    },
    {
     "data": {
      "image/png": "[encoded data removed]",
      "text/plain": [
       "<matplotlib.figure.Figure at 0x1135ad908>"
      ]
     },
     "metadata": {},
     "output_type": "display_data"
    },
    {
     "data": {
      "application/vnd.plotly.v1+json": {
       "data": [
        {
         "text": [
          "House of Cards",
          "Hemlock Grove",
          "Orange is the New Black",
          "Marco Polo",
          "Bloodline",
          "Sense8",
          "Narcos",
          "Stranger Things",
          "The Get Down",
          "The Crown",
          "The OA",
          "A Series of Unfort.",
          "13 Reasons Why",
          "Gypsy",
          "Ozark",
          "Daredevil",
          "Jessica Jones",
          "Luke Cage",
          "Iron Fist",
          "The Defenders"
         ],
         "type": "scatter",
         "x": [
          "2/1/13",
          "4/19/13",
          "7/11/13",
          "12/12/14",
          "3/20/15",
          "6/5/15",
          "8/28/15",
          "7/15/16",
          "8/12/16",
          "11/4/16",
          "12/16/16",
          "1/13/17",
          "3/31/17",
          "6/30/17",
          "7/21/17",
          "4/10/15",
          "11/20/15",
          "9/30/16",
          "3/15/17",
          "8/18/17"
         ],
         "y": [
          82,
          38,
          91,
          24,
          80,
          80,
          84,
          95,
          73,
          91,
          75,
          94,
          86,
          25,
          63,
          98,
          92,
          96,
          17,
          75
         ]
        }
       ],
       "layout": {
        "title": "Drama Scores over time"
       }
      },
      "text/html": [
       "<div id=\"974b04c5-20dd-4a78-854f-10300c00e504\" style=\"height: 525px; width: 100%;\" class=\"plotly-graph-div\"></div><script type=\"text/javascript\">require([\"plotly\"], function(Plotly) { window.PLOTLYENV=window.PLOTLYENV || {};window.PLOTLYENV.BASE_URL=\"https://plot.ly\";Plotly.newPlot(\"974b04c5-20dd-4a78-854f-10300c00e504\", [{\"type\": \"scatter\", \"x\": [\"2/1/13\", \"4/19/13\", \"7/11/13\", \"12/12/14\", \"3/20/15\", \"6/5/15\", \"8/28/15\", \"7/15/16\", \"8/12/16\", \"11/4/16\", \"12/16/16\", \"1/13/17\", \"3/31/17\", \"6/30/17\", \"7/21/17\", \"4/10/15\", \"11/20/15\", \"9/30/16\", \"3/15/17\", \"8/18/17\"], \"y\": [82, 38, 91, 24, 80, 80, 84, 95, 73, 91, 75, 94, 86, 25, 63, 98, 92, 96, 17, 75], \"text\": [\"House of Cards\", \"Hemlock Grove\", \"Orange is the New Black\", \"Marco Polo\", \"Bloodline\", \"Sense8\", \"Narcos\", \"Stranger Things\", \"The Get Down\", \"The Crown\", \"The OA\", \"A Series of Unfort.\", \"13 Reasons Why\", \"Gypsy\", \"Ozark\", \"Daredevil\", \"Jessica Jones\", \"Luke Cage\", \"Iron Fist\", \"The Defenders\"]}], {\"title\": \"Drama Scores over time\"}, {\"showLink\": true, \"linkText\": \"Export to plot.ly\"})});</script>"
      ],
      "text/vnd.plotly.v1+html": [
       "<div id=\"974b04c5-20dd-4a78-854f-10300c00e504\" style=\"height: 525px; width: 100%;\" class=\"plotly-graph-div\"></div><script type=\"text/javascript\">require([\"plotly\"], function(Plotly) { window.PLOTLYENV=window.PLOTLYENV || {};window.PLOTLYENV.BASE_URL=\"https://plot.ly\";Plotly.newPlot(\"974b04c5-20dd-4a78-854f-10300c00e504\", [{\"type\": \"scatter\", \"x\": [\"2/1/13\", \"4/19/13\", \"7/11/13\", \"12/12/14\", \"3/20/15\", \"6/5/15\", \"8/28/15\", \"7/15/16\", \"8/12/16\", \"11/4/16\", \"12/16/16\", \"1/13/17\", \"3/31/17\", \"6/30/17\", \"7/21/17\", \"4/10/15\", \"11/20/15\", \"9/30/16\", \"3/15/17\", \"8/18/17\"], \"y\": [82, 38, 91, 24, 80, 80, 84, 95, 73, 91, 75, 94, 86, 25, 63, 98, 92, 96, 17, 75], \"text\": [\"House of Cards\", \"Hemlock Grove\", \"Orange is the New Black\", \"Marco Polo\", \"Bloodline\", \"Sense8\", \"Narcos\", \"Stranger Things\", \"The Get Down\", \"The Crown\", \"The OA\", \"A Series of Unfort.\", \"13 Reasons Why\", \"Gypsy\", \"Ozark\", \"Daredevil\", \"Jessica Jones\", \"Luke Cage\", \"Iron Fist\", \"The Defenders\"]}], {\"title\": \"Drama Scores over time\"}, {\"showLink\": true, \"linkText\": \"Export to plot.ly\"})});</script>"
      ]
     },
     "metadata": {},
     "output_type": "display_data"
    },
    {
     "data": {
      "application/vnd.plotly.v1+json": {
       "data": [
        {
         "text": [
          "Unbreakable KS",
          "Grace and Frankie",
          "Master of None",
          "Love",
          "Fuller House",
          "Flaked",
          "The Characters",
          "The Ranch",
          "Lady Dynamite",
          "Easy",
          "Haters Back Off",
          "One Day at a Time",
          "Santa Clarita Diet",
          "MST 3000",
          "Girlboss",
          "Dear White People",
          "Glow",
          "The Standups",
          "Friends from College",
          "Atypical",
          "Disjointed",
          "Wet Hot American Summer"
         ],
         "type": "scatter",
         "x": [
          "3/6/2015",
          "5/8/2015",
          "11/6/2015",
          "2/16",
          "2/26/2016",
          "3/11/2016",
          "3/11/2016",
          "4/1/2016",
          "5/20/2016",
          "9/22/2016",
          "10/14/2016",
          "1/6/2017",
          "2/3/2017",
          "4/14/2017",
          "4/21/2017",
          "4/28/2017",
          "6/23/2017",
          "7/4/2017",
          "7/14/2017",
          "8/11/2017",
          "8/25/2017",
          "8/4/2017"
         ],
         "y": [
          97,
          81,
          100,
          91,
          32,
          42,
          50,
          56,
          94,
          94,
          47,
          96,
          72,
          100,
          32,
          100,
          94,
          66,
          24,
          80,
          13,
          92
         ]
        }
       ],
       "layout": {
        "title": "Comedy Scores over time"
       }
      },
      "text/html": [
       "<div id=\"a2cdacc5-06b8-479e-81ac-1c6798dce2d5\" style=\"height: 525px; width: 100%;\" class=\"plotly-graph-div\"></div><script type=\"text/javascript\">require([\"plotly\"], function(Plotly) { window.PLOTLYENV=window.PLOTLYENV || {};window.PLOTLYENV.BASE_URL=\"https://plot.ly\";Plotly.newPlot(\"a2cdacc5-06b8-479e-81ac-1c6798dce2d5\", [{\"type\": \"scatter\", \"x\": [\"3/6/2015\", \"5/8/2015\", \"11/6/2015\", \"2/16\", \"2/26/2016\", \"3/11/2016\", \"3/11/2016\", \"4/1/2016\", \"5/20/2016\", \"9/22/2016\", \"10/14/2016\", \"1/6/2017\", \"2/3/2017\", \"4/14/2017\", \"4/21/2017\", \"4/28/2017\", \"6/23/2017\", \"7/4/2017\", \"7/14/2017\", \"8/11/2017\", \"8/25/2017\", \"8/4/2017\"], \"y\": [97, 81, 100, 91, 32, 42, 50, 56, 94, 94, 47, 96, 72, 100, 32, 100, 94, 66, 24, 80, 13, 92], \"text\": [\"Unbreakable KS\", \"Grace and Frankie\", \"Master of None\", \"Love\", \"Fuller House\", \"Flaked\", \"The Characters\", \"The Ranch\", \"Lady Dynamite\", \"Easy\", \"Haters Back Off\", \"One Day at a Time\", \"Santa Clarita Diet\", \"MST 3000\", \"Girlboss\", \"Dear White People\", \"Glow\", \"The Standups\", \"Friends from College\", \"Atypical\", \"Disjointed\", \"Wet Hot American Summer\"]}], {\"title\": \"Comedy Scores over time\"}, {\"showLink\": true, \"linkText\": \"Export to plot.ly\"})});</script>"
      ],
      "text/vnd.plotly.v1+html": [
       "<div id=\"a2cdacc5-06b8-479e-81ac-1c6798dce2d5\" style=\"height: 525px; width: 100%;\" class=\"plotly-graph-div\"></div><script type=\"text/javascript\">require([\"plotly\"], function(Plotly) { window.PLOTLYENV=window.PLOTLYENV || {};window.PLOTLYENV.BASE_URL=\"https://plot.ly\";Plotly.newPlot(\"a2cdacc5-06b8-479e-81ac-1c6798dce2d5\", [{\"type\": \"scatter\", \"x\": [\"3/6/2015\", \"5/8/2015\", \"11/6/2015\", \"2/16\", \"2/26/2016\", \"3/11/2016\", \"3/11/2016\", \"4/1/2016\", \"5/20/2016\", \"9/22/2016\", \"10/14/2016\", \"1/6/2017\", \"2/3/2017\", \"4/14/2017\", \"4/21/2017\", \"4/28/2017\", \"6/23/2017\", \"7/4/2017\", \"7/14/2017\", \"8/11/2017\", \"8/25/2017\", \"8/4/2017\"], \"y\": [97, 81, 100, 91, 32, 42, 50, 56, 94, 94, 47, 96, 72, 100, 32, 100, 94, 66, 24, 80, 13, 92], \"text\": [\"Unbreakable KS\", \"Grace and Frankie\", \"Master of None\", \"Love\", \"Fuller House\", \"Flaked\", \"The Characters\", \"The Ranch\", \"Lady Dynamite\", \"Easy\", \"Haters Back Off\", \"One Day at a Time\", \"Santa Clarita Diet\", \"MST 3000\", \"Girlboss\", \"Dear White People\", \"Glow\", \"The Standups\", \"Friends from College\", \"Atypical\", \"Disjointed\", \"Wet Hot American Summer\"]}], {\"title\": \"Comedy Scores over time\"}, {\"showLink\": true, \"linkText\": \"Export to plot.ly\"})});</script>"
      ]
     },
     "metadata": {},
     "output_type": "display_data"
    }
   ],
   "source": [
    "netflix_df = pd.read_csv(\"data/netflix_rt.csv\")\n",
    "\n",
    "def pyplot_lines(data, title):\n",
    "    x = [i for i in range(data.shape[0])]\n",
    "    plt.title(title)\n",
    "    plt.scatter(x, data)\n",
    "    \n",
    "    slope, intercept, r_value, p_value, std_err = stats.linregress(x, data)\n",
    "    print(\"R squared value:\", r_value**2)\n",
    "    #print(2.3*x)\n",
    "    #plt.plot(x, intercept + slope*x, \"r\", label=\"scipy\")\n",
    "    z = np.polyfit(x, data, 1)\n",
    "    p = np.poly1d(z)\n",
    "    plt.plot(x,p(x),\"r--\", label=\"numpy\")\n",
    "    plt.show()\n",
    "\n",
    "def plotly_lines():\n",
    "    dramas = netflix_df.loc[netflix_df['CATEGORY'] == 'DRAMA']\n",
    "    plot_line(dramas['DATE'], dramas['SCORE'], dramas['TITLE'], \"Drama Scores over time\")\n",
    "    \n",
    "    comedies = netflix_df.loc[netflix_df['CATEGORY'] == 'COMEDY']\n",
    "    plot_line(comedies['DATE'], comedies['SCORE'], comedies['TITLE'], \"Comedy Scores over time\")\n",
    "    \n",
    "pyplot_lines(netflix_df.loc[netflix_df['CATEGORY'] == 'DRAMA']['SCORE'], \"Drama Score Trend\")\n",
    "pyplot_lines(netflix_df.loc[netflix_df['CATEGORY'] == 'COMEDY']['SCORE'], \"Comedy Score Trend\")\n",
    "\n",
    "plotly_lines()"
   ]
  },
  {
   "cell_type": "code",
   "execution_count": null,
   "metadata": {
    "collapsed": true
   },
   "outputs": [],
   "source": []
  }
 ],
 "metadata": {
  "kernelspec": {
   "display_name": "Python 3",
   "language": "python",
   "name": "python3"
  },
  "language_info": {
   "codemirror_mode": {
    "name": "ipython",
    "version": 3
   },
   "file_extension": ".py",
   "mimetype": "text/x-python",
   "name": "python",
   "nbconvert_exporter": "python",
   "pygments_lexer": "ipython3",
   "version": "3.6.4"
  }
 },
 "nbformat": 4,
 "nbformat_minor": 2
}
