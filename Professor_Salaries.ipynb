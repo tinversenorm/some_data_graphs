{
 "cells": [
  {
   "cell_type": "code",
   "execution_count": 1,
   "metadata": {},
   "outputs": [
    {
     "data": {
      "text/html": [
       "<script>requirejs.config({paths: { 'plotly': ['https://cdn.plot.ly/plotly-latest.min']},});if(!window.Plotly) {{require(['plotly'],function(plotly) {window.Plotly=plotly;});}}</script>"
      ],
      "text/vnd.plotly.v1+html": [
       "<script>requirejs.config({paths: { 'plotly': ['https://cdn.plot.ly/plotly-latest.min']},});if(!window.Plotly) {{require(['plotly'],function(plotly) {window.Plotly=plotly;});}}</script>"
      ]
     },
     "metadata": {},
     "output_type": "display_data"
    }
   ],
   "source": [
    "import pandas as pd\n",
    "import re\n",
    "import plotly.offline as py\n",
    "import plotly.graph_objs as go\n",
    "\n",
    "py.init_notebook_mode(connected=True)"
   ]
  },
  {
   "cell_type": "code",
   "execution_count": 2,
   "metadata": {},
   "outputs": [],
   "source": [
    "# Utility functions:\n",
    "def join_names(x):\n",
    "    out = ''.join(x)\n",
    "    return re.sub(\"\\s+\", \" \", out).strip()\n",
    "\n",
    "def format_names_dict(orig_dict):\n",
    "    return {re.sub(\"\\s+\", \" \", key).strip(): orig_dict[key] for key in orig_dict.keys()}\n",
    "\n",
    "def plot_bars(labels, data, name):\n",
    "    py.iplot({\n",
    "        \"data\": [go.Bar(\n",
    "            x=labels,\n",
    "            y=data\n",
    "        )],\n",
    "        \"layout\": go.Layout(title=name)\n",
    "    })\n",
    "    \n",
    "def plot_multiple_bars(labels_list, data_list, trace_names, name, group=True):\n",
    "    #layout = go.Layout(title=name, barmode='group') if group else go.Layout(title=name, barmode='group')  \n",
    "    py.iplot({\n",
    "        \"data\": [go.Bar(name=trace_names[i],\n",
    "                       x=[num + 1 for num in range(len(labels_list[i]))],\n",
    "                       y=data_list[i],\n",
    "                       text=labels_list[i]) \n",
    "                 for i in range(len(labels_list))],\n",
    "        \"layout\": go.Layout(\n",
    "            title=name,\n",
    "            barmode='group'\n",
    "        )\n",
    "    })"
   ]
  },
  {
   "cell_type": "code",
   "execution_count": 4,
   "metadata": {},
   "outputs": [],
   "source": [
    "# Data preprocessing\n",
    "# Column names for Salary Data\n",
    "# ['NAME FIRST', 'NAME LAST', 'TITLE', 'DEPARTMENT', 'HIRE DATE', 'RACE', \n",
    "#   'GENDER', 'EMPLOYMENT TYPE', 'SALARY (FISCAL YEAR ALLOCATION)']\n",
    "\n",
    "salaries_df = pd.read_csv(\"data/salaries.csv\")\n",
    "salaries_df['NAME'] = salaries_df[['NAME FIRST', 'NAME LAST']].apply(join_names, axis=1)\n",
    "salaries_df['DEPARTMENT'] = salaries_df['DEPARTMENT'].apply(lambda x: x.strip())\n",
    "salaries_df['SALARY'] = salaries_df['SALARY (FISCAL YEAR ALLOCATION)']"
   ]
  },
  {
   "cell_type": "code",
   "execution_count": 5,
   "metadata": {
    "scrolled": false
   },
   "outputs": [
    {
     "data": {
      "application/vnd.plotly.v1+json": {
       "data": [
        {
         "type": "bar",
         "uid": "c7beb40c-bdc8-11e8-818c-4600903a2a01",
         "x": [
          "Shaka Smart",
          "Thomas Herman",
          "Kevin Bozic",
          "Karen Aston",
          "Michael Perrin",
          "S Johnston",
          "Todd Orlando",
          "Richard Freeman",
          "Gregory Fenves",
          "David Ring"
         ],
         "y": [
          3040417,
          2746220,
          969500,
          880000,
          850000,
          811926,
          767950,
          767050,
          750000,
          683693
         ]
        }
       ],
       "layout": {
        "title": "10 Most Paid Employees at UT"
       }
      },
      "text/html": [
       "<div id=\"bff25e4c-9ee4-4bcc-88a4-9c0462a9843f\" style=\"height: 525px; width: 100%;\" class=\"plotly-graph-div\"></div><script type=\"text/javascript\">require([\"plotly\"], function(Plotly) { window.PLOTLYENV=window.PLOTLYENV || {};window.PLOTLYENV.BASE_URL=\"https://plot.ly\";Plotly.newPlot(\"bff25e4c-9ee4-4bcc-88a4-9c0462a9843f\", [{\"x\": [\"Shaka Smart\", \"Thomas Herman\", \"Kevin Bozic\", \"Karen Aston\", \"Michael Perrin\", \"S Johnston\", \"Todd Orlando\", \"Richard Freeman\", \"Gregory Fenves\", \"David Ring\"], \"y\": [3040417, 2746220, 969500, 880000, 850000, 811926, 767950, 767050, 750000, 683693], \"type\": \"bar\", \"uid\": \"c7c2b5e2-bdc8-11e8-a089-4600903a2a01\"}], {\"title\": \"10 Most Paid Employees at UT\"}, {\"showLink\": true, \"linkText\": \"Export to plot.ly\"})});</script>"
      ],
      "text/vnd.plotly.v1+html": [
       "<div id=\"bff25e4c-9ee4-4bcc-88a4-9c0462a9843f\" style=\"height: 525px; width: 100%;\" class=\"plotly-graph-div\"></div><script type=\"text/javascript\">require([\"plotly\"], function(Plotly) { window.PLOTLYENV=window.PLOTLYENV || {};window.PLOTLYENV.BASE_URL=\"https://plot.ly\";Plotly.newPlot(\"bff25e4c-9ee4-4bcc-88a4-9c0462a9843f\", [{\"x\": [\"Shaka Smart\", \"Thomas Herman\", \"Kevin Bozic\", \"Karen Aston\", \"Michael Perrin\", \"S Johnston\", \"Todd Orlando\", \"Richard Freeman\", \"Gregory Fenves\", \"David Ring\"], \"y\": [3040417, 2746220, 969500, 880000, 850000, 811926, 767950, 767050, 750000, 683693], \"type\": \"bar\", \"uid\": \"c7c2b5e2-bdc8-11e8-a089-4600903a2a01\"}], {\"title\": \"10 Most Paid Employees at UT\"}, {\"showLink\": true, \"linkText\": \"Export to plot.ly\"})});</script>"
      ]
     },
     "metadata": {},
     "output_type": "display_data"
    },
    {
     "data": {
      "application/vnd.plotly.v1+json": {
       "data": [
        {
         "name": "Female",
         "text": [
          "Karen Aston",
          "Amy Shumaker",
          "Christine Plonsky",
          "Susan Morris",
          "Elizabeth Teisberg",
          "Maurie Mcinnis",
          "Laura Starks",
          "Thaleia Zariphopoulou",
          "Sharon Wood",
          "Linda Hicke"
         ],
         "type": "bar",
         "uid": "c7ccde94-bdc8-11e8-aab1-4600903a2a01",
         "x": [
          1,
          2,
          3,
          4,
          5,
          6,
          7,
          8,
          9,
          10
         ],
         "y": [
          880000,
          654239,
          540833,
          537330,
          500000,
          450000,
          434554,
          390693,
          379600,
          379445
         ]
        },
        {
         "name": "Male",
         "text": [
          "Shaka Smart",
          "Thomas Herman",
          "Kevin Bozic",
          "Michael Perrin",
          "S Johnston",
          "Todd Orlando",
          "Richard Freeman",
          "Gregory Fenves",
          "David Ring",
          "Karl Koenig"
         ],
         "type": "bar",
         "uid": "c7cce0cc-bdc8-11e8-85eb-4600903a2a01",
         "x": [
          1,
          2,
          3,
          4,
          5,
          6,
          7,
          8,
          9,
          10
         ],
         "y": [
          3040417,
          2746220,
          969500,
          850000,
          811926,
          767950,
          767050,
          750000,
          683693,
          638190
         ]
        }
       ],
       "layout": {
        "barmode": "group",
        "title": "10 Most Paid Employees at UT by Gender"
       }
      },
      "text/html": [
       "<div id=\"7e5bd697-4187-4341-9c06-9f35b817f1aa\" style=\"height: 525px; width: 100%;\" class=\"plotly-graph-div\"></div><script type=\"text/javascript\">require([\"plotly\"], function(Plotly) { window.PLOTLYENV=window.PLOTLYENV || {};window.PLOTLYENV.BASE_URL=\"https://plot.ly\";Plotly.newPlot(\"7e5bd697-4187-4341-9c06-9f35b817f1aa\", [{\"name\": \"Female\", \"text\": [\"Karen Aston\", \"Amy Shumaker\", \"Christine Plonsky\", \"Susan Morris\", \"Elizabeth Teisberg\", \"Maurie Mcinnis\", \"Laura Starks\", \"Thaleia Zariphopoulou\", \"Sharon Wood\", \"Linda Hicke\"], \"x\": [1, 2, 3, 4, 5, 6, 7, 8, 9, 10], \"y\": [880000, 654239, 540833, 537330, 500000, 450000, 434554, 390693, 379600, 379445], \"type\": \"bar\", \"uid\": \"c7cfd702-bdc8-11e8-96be-4600903a2a01\"}, {\"name\": \"Male\", \"text\": [\"Shaka Smart\", \"Thomas Herman\", \"Kevin Bozic\", \"Michael Perrin\", \"S Johnston\", \"Todd Orlando\", \"Richard Freeman\", \"Gregory Fenves\", \"David Ring\", \"Karl Koenig\"], \"x\": [1, 2, 3, 4, 5, 6, 7, 8, 9, 10], \"y\": [3040417, 2746220, 969500, 850000, 811926, 767950, 767050, 750000, 683693, 638190], \"type\": \"bar\", \"uid\": \"c7cfd964-bdc8-11e8-aa6b-4600903a2a01\"}], {\"barmode\": \"group\", \"title\": \"10 Most Paid Employees at UT by Gender\"}, {\"showLink\": true, \"linkText\": \"Export to plot.ly\"})});</script>"
      ],
      "text/vnd.plotly.v1+html": [
       "<div id=\"7e5bd697-4187-4341-9c06-9f35b817f1aa\" style=\"height: 525px; width: 100%;\" class=\"plotly-graph-div\"></div><script type=\"text/javascript\">require([\"plotly\"], function(Plotly) { window.PLOTLYENV=window.PLOTLYENV || {};window.PLOTLYENV.BASE_URL=\"https://plot.ly\";Plotly.newPlot(\"7e5bd697-4187-4341-9c06-9f35b817f1aa\", [{\"name\": \"Female\", \"text\": [\"Karen Aston\", \"Amy Shumaker\", \"Christine Plonsky\", \"Susan Morris\", \"Elizabeth Teisberg\", \"Maurie Mcinnis\", \"Laura Starks\", \"Thaleia Zariphopoulou\", \"Sharon Wood\", \"Linda Hicke\"], \"x\": [1, 2, 3, 4, 5, 6, 7, 8, 9, 10], \"y\": [880000, 654239, 540833, 537330, 500000, 450000, 434554, 390693, 379600, 379445], \"type\": \"bar\", \"uid\": \"c7cfd702-bdc8-11e8-96be-4600903a2a01\"}, {\"name\": \"Male\", \"text\": [\"Shaka Smart\", \"Thomas Herman\", \"Kevin Bozic\", \"Michael Perrin\", \"S Johnston\", \"Todd Orlando\", \"Richard Freeman\", \"Gregory Fenves\", \"David Ring\", \"Karl Koenig\"], \"x\": [1, 2, 3, 4, 5, 6, 7, 8, 9, 10], \"y\": [3040417, 2746220, 969500, 850000, 811926, 767950, 767050, 750000, 683693, 638190], \"type\": \"bar\", \"uid\": \"c7cfd964-bdc8-11e8-aa6b-4600903a2a01\"}], {\"barmode\": \"group\", \"title\": \"10 Most Paid Employees at UT by Gender\"}, {\"showLink\": true, \"linkText\": \"Export to plot.ly\"})});</script>"
      ]
     },
     "metadata": {},
     "output_type": "display_data"
    },
    {
     "data": {
      "application/vnd.plotly.v1+json": {
       "data": [
        {
         "type": "bar",
         "uid": "c7e0dd9a-bdc8-11e8-a0c7-4600903a2a01",
         "x": [
          "AMERICAN INDIAN/ALASKAN",
          "ASIAN",
          "BLACK",
          "HISPANIC",
          "NATIVE HAWAIIAN/PACIFIC ISLANDER",
          "TWO OR MORE ETHNICITIES",
          "WHITE"
         ],
         "y": [
          50717.5,
          54259,
          44000,
          41726.5,
          62127,
          47000,
          59360
         ]
        }
       ],
       "layout": {
        "title": "Median pay by race"
       }
      },
      "text/html": [
       "<div id=\"9bdec499-996e-484d-9972-7dcc30a76fa6\" style=\"height: 525px; width: 100%;\" class=\"plotly-graph-div\"></div><script type=\"text/javascript\">require([\"plotly\"], function(Plotly) { window.PLOTLYENV=window.PLOTLYENV || {};window.PLOTLYENV.BASE_URL=\"https://plot.ly\";Plotly.newPlot(\"9bdec499-996e-484d-9972-7dcc30a76fa6\", [{\"x\": [\"AMERICAN INDIAN/ALASKAN\", \"ASIAN\", \"BLACK\", \"HISPANIC\", \"NATIVE HAWAIIAN/PACIFIC ISLANDER\", \"TWO OR MORE ETHNICITIES\", \"WHITE\"], \"y\": [50717.5, 54259.0, 44000.0, 41726.5, 62127.0, 47000.0, 59360.0], \"type\": \"bar\", \"uid\": \"c7e3a58c-bdc8-11e8-a443-4600903a2a01\"}], {\"title\": \"Median pay by race\"}, {\"showLink\": true, \"linkText\": \"Export to plot.ly\"})});</script>"
      ],
      "text/vnd.plotly.v1+html": [
       "<div id=\"9bdec499-996e-484d-9972-7dcc30a76fa6\" style=\"height: 525px; width: 100%;\" class=\"plotly-graph-div\"></div><script type=\"text/javascript\">require([\"plotly\"], function(Plotly) { window.PLOTLYENV=window.PLOTLYENV || {};window.PLOTLYENV.BASE_URL=\"https://plot.ly\";Plotly.newPlot(\"9bdec499-996e-484d-9972-7dcc30a76fa6\", [{\"x\": [\"AMERICAN INDIAN/ALASKAN\", \"ASIAN\", \"BLACK\", \"HISPANIC\", \"NATIVE HAWAIIAN/PACIFIC ISLANDER\", \"TWO OR MORE ETHNICITIES\", \"WHITE\"], \"y\": [50717.5, 54259.0, 44000.0, 41726.5, 62127.0, 47000.0, 59360.0], \"type\": \"bar\", \"uid\": \"c7e3a58c-bdc8-11e8-a443-4600903a2a01\"}], {\"title\": \"Median pay by race\"}, {\"showLink\": true, \"linkText\": \"Export to plot.ly\"})});</script>"
      ]
     },
     "metadata": {},
     "output_type": "display_data"
    },
    {
     "data": {
      "application/vnd.plotly.v1+json": {
       "data": [
        {
         "type": "bar",
         "uid": "c7ed2e1a-bdc8-11e8-b248-4600903a2a01",
         "x": [
          "Head Coach",
          "Professor",
          "Senior Research Scientist",
          "Research Professor",
          "Distinguished Senior Lecturer",
          "Engineering Scientist",
          "Clinical Professor",
          "Associate Professor",
          "Assistant Professor",
          "Research Scientist"
         ],
         "y": [
          240787,
          166814,
          147922.5,
          131358.5,
          109120,
          107120,
          106741,
          105652,
          103944.5,
          101658
         ]
        }
       ],
       "layout": {
        "title": "Top Ten Nonadministrative Jobs by Median Pay"
       }
      },
      "text/html": [
       "<div id=\"4b9c974c-bab0-4237-8615-97eee7f2261f\" style=\"height: 525px; width: 100%;\" class=\"plotly-graph-div\"></div><script type=\"text/javascript\">require([\"plotly\"], function(Plotly) { window.PLOTLYENV=window.PLOTLYENV || {};window.PLOTLYENV.BASE_URL=\"https://plot.ly\";Plotly.newPlot(\"4b9c974c-bab0-4237-8615-97eee7f2261f\", [{\"x\": [\"Head Coach\", \"Professor\", \"Senior Research Scientist\", \"Research Professor\", \"Distinguished Senior Lecturer\", \"Engineering Scientist\", \"Clinical Professor\", \"Associate Professor\", \"Assistant Professor\", \"Research Scientist\"], \"y\": [240787.0, 166814.0, 147922.5, 131358.5, 109120.0, 107120.0, 106741.0, 105652.0, 103944.5, 101658.0], \"type\": \"bar\", \"uid\": \"c7efe880-bdc8-11e8-baec-4600903a2a01\"}], {\"title\": \"Top Ten Nonadministrative Jobs by Median Pay\"}, {\"showLink\": true, \"linkText\": \"Export to plot.ly\"})});</script>"
      ],
      "text/vnd.plotly.v1+html": [
       "<div id=\"4b9c974c-bab0-4237-8615-97eee7f2261f\" style=\"height: 525px; width: 100%;\" class=\"plotly-graph-div\"></div><script type=\"text/javascript\">require([\"plotly\"], function(Plotly) { window.PLOTLYENV=window.PLOTLYENV || {};window.PLOTLYENV.BASE_URL=\"https://plot.ly\";Plotly.newPlot(\"4b9c974c-bab0-4237-8615-97eee7f2261f\", [{\"x\": [\"Head Coach\", \"Professor\", \"Senior Research Scientist\", \"Research Professor\", \"Distinguished Senior Lecturer\", \"Engineering Scientist\", \"Clinical Professor\", \"Associate Professor\", \"Assistant Professor\", \"Research Scientist\"], \"y\": [240787.0, 166814.0, 147922.5, 131358.5, 109120.0, 107120.0, 106741.0, 105652.0, 103944.5, 101658.0], \"type\": \"bar\", \"uid\": \"c7efe880-bdc8-11e8-baec-4600903a2a01\"}], {\"title\": \"Top Ten Nonadministrative Jobs by Median Pay\"}, {\"showLink\": true, \"linkText\": \"Export to plot.ly\"})});</script>"
      ]
     },
     "metadata": {},
     "output_type": "display_data"
    },
    {
     "data": {
      "application/vnd.plotly.v1+json": {
       "data": [
        {
         "type": "bar",
         "uid": "c7f75f0c-bdc8-11e8-8536-4600903a2a01",
         "x": [
          "President",
          "Athletic Director",
          "Vice Dean",
          "Senior Vice President and Chief Financial Officer",
          "Professor (Medical Affiliated)",
          "Vice President for Development",
          "Executive Vice-President and Provost",
          "Senior Vice Provost",
          "Associate Dean for Academic Affairs",
          "Vice President for Student Affairs"
         ],
         "y": [
          750000,
          695416.5,
          537330,
          525000,
          497917,
          465000,
          450000,
          343049,
          339924,
          330000
         ]
        }
       ],
       "layout": {
        "title": "Top Ten Jobs by Median Pay"
       }
      },
      "text/html": [
       "<div id=\"dcbe7f3d-7238-4556-aac7-2f9265f0ed24\" style=\"height: 525px; width: 100%;\" class=\"plotly-graph-div\"></div><script type=\"text/javascript\">require([\"plotly\"], function(Plotly) { window.PLOTLYENV=window.PLOTLYENV || {};window.PLOTLYENV.BASE_URL=\"https://plot.ly\";Plotly.newPlot(\"dcbe7f3d-7238-4556-aac7-2f9265f0ed24\", [{\"x\": [\"President\", \"Athletic Director\", \"Vice Dean\", \"Senior Vice President and Chief Financial Officer\", \"Professor (Medical Affiliated)\", \"Vice President for Development\", \"Executive Vice-President and Provost\", \"Senior Vice Provost\", \"Associate Dean for Academic Affairs\", \"Vice President for Student Affairs\"], \"y\": [750000.0, 695416.5, 537330.0, 525000.0, 497917.0, 465000.0, 450000.0, 343049.0, 339924.0, 330000.0], \"type\": \"bar\", \"uid\": \"c7f9ecfe-bdc8-11e8-a536-4600903a2a01\"}], {\"title\": \"Top Ten Jobs by Median Pay\"}, {\"showLink\": true, \"linkText\": \"Export to plot.ly\"})});</script>"
      ],
      "text/vnd.plotly.v1+html": [
       "<div id=\"dcbe7f3d-7238-4556-aac7-2f9265f0ed24\" style=\"height: 525px; width: 100%;\" class=\"plotly-graph-div\"></div><script type=\"text/javascript\">require([\"plotly\"], function(Plotly) { window.PLOTLYENV=window.PLOTLYENV || {};window.PLOTLYENV.BASE_URL=\"https://plot.ly\";Plotly.newPlot(\"dcbe7f3d-7238-4556-aac7-2f9265f0ed24\", [{\"x\": [\"President\", \"Athletic Director\", \"Vice Dean\", \"Senior Vice President and Chief Financial Officer\", \"Professor (Medical Affiliated)\", \"Vice President for Development\", \"Executive Vice-President and Provost\", \"Senior Vice Provost\", \"Associate Dean for Academic Affairs\", \"Vice President for Student Affairs\"], \"y\": [750000.0, 695416.5, 537330.0, 525000.0, 497917.0, 465000.0, 450000.0, 343049.0, 339924.0, 330000.0], \"type\": \"bar\", \"uid\": \"c7f9ecfe-bdc8-11e8-a536-4600903a2a01\"}], {\"title\": \"Top Ten Jobs by Median Pay\"}, {\"showLink\": true, \"linkText\": \"Export to plot.ly\"})});</script>"
      ]
     },
     "metadata": {},
     "output_type": "display_data"
    },
    {
     "data": {
      "application/vnd.plotly.v1+json": {
       "data": [
        {
         "type": "bar",
         "uid": "c8015e94-bdc8-11e8-ab24-4600903a2a01",
         "x": [
          "Athletic Director",
          "Professor (Medical Affiliated)",
          "Assistant Professor of Medicine (Clinical Educator)",
          "Executive Senior Associate Athletic Director",
          "Head Coach",
          "Assistant Professor of Medicine (Clinical Educator Affiliated)",
          "Chief Psychiatrist",
          "Medical Director",
          "Chief, University Police",
          "Senior Engineering Scientist"
         ],
         "y": [
          695416.5,
          497917,
          265189,
          255616,
          240787,
          214583.5,
          194655,
          188422,
          179928,
          174844.5
         ]
        }
       ],
       "layout": {
        "title": "Top Ten Non-Admin Jobs by Median Pay"
       }
      },
      "text/html": [
       "<div id=\"0c8ee905-bba9-41c2-9691-bbd7a4f61d34\" style=\"height: 525px; width: 100%;\" class=\"plotly-graph-div\"></div><script type=\"text/javascript\">require([\"plotly\"], function(Plotly) { window.PLOTLYENV=window.PLOTLYENV || {};window.PLOTLYENV.BASE_URL=\"https://plot.ly\";Plotly.newPlot(\"0c8ee905-bba9-41c2-9691-bbd7a4f61d34\", [{\"x\": [\"Athletic Director\", \"Professor (Medical Affiliated)\", \"Assistant Professor of Medicine (Clinical Educator)\", \"Executive Senior Associate Athletic Director\", \"Head Coach\", \"Assistant Professor of Medicine (Clinical Educator Affiliated)\", \"Chief Psychiatrist\", \"Medical Director\", \"Chief, University Police\", \"Senior Engineering Scientist\"], \"y\": [695416.5, 497917.0, 265189.0, 255616.0, 240787.0, 214583.5, 194655.0, 188422.0, 179928.0, 174844.5], \"type\": \"bar\", \"uid\": \"c803b1a8-bdc8-11e8-b7cb-4600903a2a01\"}], {\"title\": \"Top Ten Non-Admin Jobs by Median Pay\"}, {\"showLink\": true, \"linkText\": \"Export to plot.ly\"})});</script>"
      ],
      "text/vnd.plotly.v1+html": [
       "<div id=\"0c8ee905-bba9-41c2-9691-bbd7a4f61d34\" style=\"height: 525px; width: 100%;\" class=\"plotly-graph-div\"></div><script type=\"text/javascript\">require([\"plotly\"], function(Plotly) { window.PLOTLYENV=window.PLOTLYENV || {};window.PLOTLYENV.BASE_URL=\"https://plot.ly\";Plotly.newPlot(\"0c8ee905-bba9-41c2-9691-bbd7a4f61d34\", [{\"x\": [\"Athletic Director\", \"Professor (Medical Affiliated)\", \"Assistant Professor of Medicine (Clinical Educator)\", \"Executive Senior Associate Athletic Director\", \"Head Coach\", \"Assistant Professor of Medicine (Clinical Educator Affiliated)\", \"Chief Psychiatrist\", \"Medical Director\", \"Chief, University Police\", \"Senior Engineering Scientist\"], \"y\": [695416.5, 497917.0, 265189.0, 255616.0, 240787.0, 214583.5, 194655.0, 188422.0, 179928.0, 174844.5], \"type\": \"bar\", \"uid\": \"c803b1a8-bdc8-11e8-b7cb-4600903a2a01\"}], {\"title\": \"Top Ten Non-Admin Jobs by Median Pay\"}, {\"showLink\": true, \"linkText\": \"Export to plot.ly\"})});</script>"
      ]
     },
     "metadata": {},
     "output_type": "display_data"
    }
   ],
   "source": [
    "def most_paid(salaries_df, dept='all', gender='both'):\n",
    "    out_df = salaries_df.sort_values(['SALARY (FISCAL YEAR ALLOCATION)'], \n",
    "                            ascending=False)[['NAME', 'GENDER', 'RACE', 'TITLE', 'HIRE DATE', \n",
    "                                              'DEPARTMENT', 'SALARY']]\n",
    "    if gender =='female': \n",
    "        out_df = out_df.loc[out_df['GENDER'] == 'FEMALE'][['NAME', 'DEPARTMENT', 'TITLE', 'SALARY']]\n",
    "    elif gender == 'male':\n",
    "        out_df = out_df.loc[out_df['GENDER'] == 'MALE'][['NAME', 'DEPARTMENT', 'TITLE', 'SALARY']]\n",
    "    else:\n",
    "        out_df = out_df[['NAME', 'RACE', 'GENDER', 'HIRE DATE', 'DEPARTMENT', 'TITLE', 'SALARY']]\n",
    "\n",
    "    if dept == 'all':\n",
    "        return out_df\n",
    "    else:\n",
    "        return out_df.loc[out_df['DEPARTMENT'] == dept]\n",
    "\n",
    "    \n",
    "def most_paid_analysis():\n",
    "    # Overall most paid employees\n",
    "    mp_df = most_paid(salaries_df)\n",
    "    mp_df_ten = mp_df.head(10)\n",
    "    plot_bars(mp_df_ten['NAME'], mp_df_ten['SALARY'], \"10 Most Paid Employees at UT\")\n",
    "    \n",
    "    # Most paid employees by gender\n",
    "    plot_multiple_bars([(mp_df.loc[mp_df['GENDER'] == 'FEMALE']).head(10)['NAME'], \n",
    "                        (mp_df.loc[mp_df['GENDER'] == 'MALE']).head(10)['NAME']],  \n",
    "                       [(mp_df.loc[mp_df['GENDER'] == 'FEMALE']).head(10)['SALARY'], \n",
    "                        (mp_df.loc[mp_df['GENDER'] == 'MALE']).head(10)['SALARY']],\n",
    "                       [\"Female\", \"Male\"],\n",
    "                       \"10 Most Paid Employees at UT by Gender\")\n",
    "    \n",
    "    # Average employee pay by race\n",
    "    #race_avg = (mp_df.groupby(['RACE'])['SALARY'].mean()).to_dict()\n",
    "    race_med = (mp_df.groupby(['RACE'])['SALARY'].median()).to_dict()\n",
    "    #race_med = {re.sub(\"\\s+\", \" \", key).strip(): race_med[key] for key in race_med.keys()}\n",
    "    race_med = format_names_dict(race_med)\n",
    "    del race_med['']\n",
    "    plot_bars(list(race_med.keys()), list(race_med.values()), \"Median pay by race\")\n",
    "    \n",
    "    # Top 10 jobs, filtering out Administrative jobs like President, Director, etc.\n",
    "    # \n",
    "    mask = mp_df.groupby(['TITLE'])['NAME'].transform('count') > 20\n",
    "    top_jobs_filtered = (mp_df[(mask)].groupby(['TITLE'])['SALARY']\n",
    "                       .median().to_frame()\n",
    "                       .filter(regex=\"^((?!President|Dean|Provost|Director).)*$\", axis=0)\n",
    "                       .sort_values(['SALARY'], ascending=False)\n",
    "                       .head(10))\n",
    "    top_jobs_filtered = format_names_dict(top_jobs_filtered.to_dict()['SALARY'])\n",
    "    plot_bars(list(top_jobs_filtered.keys()), \n",
    "              list(top_jobs_filtered.values()), \n",
    "              \"Top Ten Nonadministrative Jobs by Median Pay\")\n",
    "    \n",
    "    # Top 10 Median employee pay by job\n",
    "    job_avg = (mp_df.groupby(['TITLE'])['SALARY'].median())\n",
    "    job_avg = job_avg.to_frame().sort_values(['SALARY'], ascending=False)\n",
    "    top_jobs = job_avg.head(10).to_dict()['SALARY']\n",
    "    top_jobs = format_names_dict(top_jobs)\n",
    "    plot_bars(list(top_jobs.keys()), list(top_jobs.values()), \"Top Ten Jobs by Median Pay\")\n",
    "    \n",
    "    \n",
    "    \n",
    "    top_nonadmin_jobs = job_avg.filter(regex=\"^((?!President|Dean|Provost).)*$\", axis=0).head(10).to_dict()['SALARY']\n",
    "    top_nonadmin_jobs = format_names_dict(top_nonadmin_jobs)\n",
    "    plot_bars(list(top_nonadmin_jobs.keys()), list(top_nonadmin_jobs.values()), \"Top Ten Non-Admin Jobs by Median Pay\")\n",
    "    \n",
    "    \n",
    "most_paid_analysis()"
   ]
  }
 ],
 "metadata": {
  "kernelspec": {
   "display_name": "Python 3",
   "language": "python",
   "name": "python3"
  },
  "language_info": {
   "codemirror_mode": {
    "name": "ipython",
    "version": 3
   },
   "file_extension": ".py",
   "mimetype": "text/x-python",
   "name": "python",
   "nbconvert_exporter": "python",
   "pygments_lexer": "ipython3",
   "version": "3.6.4"
  }
 },
 "nbformat": 4,
 "nbformat_minor": 2
}
